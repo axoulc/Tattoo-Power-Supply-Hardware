{
 "cells": [
  {
   "attachments": {},
   "cell_type": "markdown",
   "metadata": {},
   "source": [
    "# Digitally Adjustable Power Supply\n",
    "DC/DC : LM2576\n",
    "\n",
    "![Schematic Feedback](img/smps_feedback.drawio.png)"
   ]
  },
  {
   "attachments": {},
   "cell_type": "markdown",
   "metadata": {},
   "source": [
    "$I_1+I_3=I_2$\n",
    "\n",
    "$I_2=\\frac{U_2}{R_2}=\\frac{V_{REF}}{R_2}$\n",
    "\n",
    "$U_{1}=V_{OUT}-V_{REF}$\n",
    "\n",
    "$I_1=\\frac{U_{1}}{R_1}=\\frac{V_{OUT}-V_{REF}}{R_1}$\n",
    "\n",
    "$I_3=\\frac{U_{3}}{R_3}=\\frac{V_{DAC}-V_{REF}}{R_3}$\n",
    "\n",
    "\n",
    "$\\frac{V_{OUT}-V_{REF}}{R_1}+\\frac{V_{DAC}-V_{REF}}{R_3}=\\frac{V_{REF}}{R_2}$\n",
    "\n",
    "\n",
    "\n",
    "LM2576 Datasheet :\n",
    "\n",
    "$V_{REF}=1.23V$ and $1k\\Omega<R_2<5k\\Omega$\n"
   ]
  },
  {
   "attachments": {},
   "cell_type": "markdown",
   "metadata": {},
   "source": [
    "## Requirements installation"
   ]
  },
  {
   "cell_type": "code",
   "execution_count": 3,
   "metadata": {
    "vscode": {
     "languageId": "shellscript"
    }
   },
   "outputs": [
    {
     "name": "stdout",
     "output_type": "stream",
     "text": [
      "Defaulting to user installation because normal site-packages is not writeable\n",
      "Requirement already satisfied: simpy in /home/axoul/.local/lib/python3.10/site-packages (4.0.1)\n",
      "Requirement already satisfied: eseries in /home/axoul/.local/lib/python3.10/site-packages (1.2.1)\n",
      "Requirement already satisfied: numpy in /usr/lib/python3/dist-packages (1.21.5)\n",
      "Requirement already satisfied: matplotlib in /usr/lib/python3/dist-packages (3.5.1)\n",
      "Requirement already satisfied: docopt-subcommands>=4.0 in /home/axoul/.local/lib/python3.10/site-packages (from eseries) (4.0.0)\n",
      "Requirement already satisfied: future in /home/axoul/.local/lib/python3.10/site-packages (from eseries) (0.18.3)\n",
      "Requirement already satisfied: docopt in /usr/lib/python3/dist-packages (from docopt-subcommands>=4.0->eseries) (0.6.2)\n"
     ]
    }
   ],
   "source": [
    "!pip install simpy eseries numpy matplotlib"
   ]
  },
  {
   "attachments": {},
   "cell_type": "markdown",
   "metadata": {},
   "source": [
    "## Resistors Exx Series between $1k\\Omega$ and $5k\\Omega$\n",
    "\n",
    "Resistor serie can be chosen with `SERIE` variable."
   ]
  },
  {
   "cell_type": "code",
   "execution_count": 9,
   "metadata": {},
   "outputs": [
    {
     "name": "stdout",
     "output_type": "stream",
     "text": [
      "<generator object _erange at 0x7f3283db9f50>\n"
     ]
    }
   ],
   "source": [
    "from eseries import erange, E12, E24, E48, E96, E192\n",
    "\n",
    "SERIE = E96\n",
    "\n",
    "res_list = erange(SERIE, 1000, 5000)\n",
    "\n",
    "print(res_list)"
   ]
  },
  {
   "attachments": {},
   "cell_type": "markdown",
   "metadata": {},
   "source": [
    "## Initial conditions of the equation system\n",
    "\n",
    "Goal : R1 and R3 calculation with a given $V_{DAC}$ and $V_{OUT}$ values\n",
    "\n",
    "| $V_{DAC}$ | $V_{OUT}$ |\n",
    "|-----------|-----------|\n",
    "| 0 V       | 19 V       |\n",
    "| 3.3 V     | 1 V      |"
   ]
  },
  {
   "cell_type": "code",
   "execution_count": 5,
   "metadata": {},
   "outputs": [],
   "source": [
    "from sympy import symbols, Eq, solve\n",
    "from eseries import find_nearest, E12, E24, E48, E96, E192\n",
    "\n",
    "VREF = 1.23\n",
    "VDAC_1 = 0.0\n",
    "VDAC_2 = 3.3\n",
    "VOUT_1 = 18.0\n",
    "VOUT_2 = 1.0\n",
    "R2 = 1000\n"
   ]
  },
  {
   "attachments": {},
   "cell_type": "markdown",
   "metadata": {},
   "source": [
    "## Solve R1 and R3 values"
   ]
  },
  {
   "cell_type": "code",
   "execution_count": 6,
   "metadata": {},
   "outputs": [
    {
     "name": "stdout",
     "output_type": "stream",
     "text": [
      "R1 =  8482.63118994826\n",
      "R3 =  1646.62840746055\n",
      "R1 Real =  8450.0\n",
      "R3 Real =  1650.0\n"
     ]
    }
   ],
   "source": [
    "R1, R3 = symbols('R1 R3')\n",
    "eq1 = Eq((VOUT_1 - VREF) / R1 + (VDAC_1 - VREF) / R3, VREF / R2)\n",
    "eq2 = Eq((VOUT_2 - VREF) / R1 + (VDAC_2 - VREF) / R3, VREF / R2)\n",
    "sol = solve((eq1, eq2), (R1, R3), dict=True)\n",
    "print(\"R1 = \", sol[0][R1])\n",
    "print(\"R3 = \", sol[0][R3])\n",
    "\n",
    "R1_real = find_nearest(SERIE, sol[0][R1])\n",
    "R3_real = find_nearest(SERIE, sol[0][R3])\n",
    "print(\"R1 Real = \", R1_real)\n",
    "print(\"R3 Real = \", R3_real)"
   ]
  },
  {
   "attachments": {},
   "cell_type": "markdown",
   "metadata": {},
   "source": [
    "## Real $V_{OUT}$ values\n",
    "\n",
    "$\\frac{V_{OUT}-V_{REF}}{R_1}+\\frac{V_{DAC}-V_{REF}}{R_3}=\\frac{V_{REF}}{R_2}$\n",
    "\n",
    "$V_{OUT}=V_{REF}+\\frac{V_{REF}}{R_2}R_1+\\frac{V_{REF}-V_{DAC}}{R_3}R_1$\n",
    "\n"
   ]
  },
  {
   "cell_type": "code",
   "execution_count": 7,
   "metadata": {},
   "outputs": [
    {
     "data": {
      "image/png": "[encoded data removed]",
      "text/plain": [
       "<Figure size 640x480 with 1 Axes>"
      ]
     },
     "metadata": {},
     "output_type": "display_data"
    },
    {
     "name": "stdout",
     "output_type": "stream",
     "text": [
      "For VDAC = 0.0 V, VOUT = 17.922590909090907 V\n",
      "For VDAC = 3.3 V, VOUT = 1.0225909090909084 V\n"
     ]
    }
   ],
   "source": [
    "import numpy as np\n",
    "import matplotlib.pyplot as plt\n",
    "\n",
    "x = np.linspace(VDAC_1, VDAC_2, 100)\n",
    "y = VREF + (VREF * R1_real / R2) + ((VREF - x) * R1_real / R3_real)\n",
    "plt.plot(x, y)\n",
    "plt.grid()\n",
    "plt.xlabel('$V_{DAC}$')\n",
    "plt.ylabel('$V_{OUT}$')\n",
    "plt.show()\n",
    "\n",
    "print(\"For VDAC =\", x[0], \"V, VOUT =\", y[0], \"V\")\n",
    "print(\"For VDAC =\", x[-1], \"V, VOUT =\", y[-1], \"V\")\n"
   ]
  }
 ],
 "metadata": {
  "kernelspec": {
   "display_name": "Python 3",
   "language": "python",
   "name": "python3"
  },
  "language_info": {
   "codemirror_mode": {
    "name": "ipython",
    "version": 3
   },
   "file_extension": ".py",
   "mimetype": "text/x-python",
   "name": "python",
   "nbconvert_exporter": "python",
   "pygments_lexer": "ipython3",
   "version": "3.10.6 (main, Nov 14 2022, 16:10:14) [GCC 11.3.0]"
  },
  "orig_nbformat": 4,
  "vscode": {
   "interpreter": {
    "hash": "916dbcbb3f70747c44a77c7bcd40155683ae19c65e1c03b4aa3499c5328201f1"
   }
  }
 },
 "nbformat": 4,
 "nbformat_minor": 2
}

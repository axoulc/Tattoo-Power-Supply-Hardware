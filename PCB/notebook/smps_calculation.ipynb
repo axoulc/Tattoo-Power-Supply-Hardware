{
 "cells": [
  {
   "attachments": {},
   "cell_type": "markdown",
   "metadata": {},
   "source": [
    "# Digitally Adjustable Power Supply\n",
    "DC/DC : LM2576\n",
    "\n",
    "![Schematic Feedback](img/smps_feedback.drawio.png)"
   ]
  },
  {
   "attachments": {},
   "cell_type": "markdown",
   "metadata": {},
   "source": [
    "$I_1+I_3=I_2$\n",
    "\n",
    "$I_2=\\frac{U_2}{R_2}=\\frac{V_{REF}}{R_2}$\n",
    "\n",
    "$U_{1}=V_{OUT}-V_{REF}$\n",
    "\n",
    "$I_1=\\frac{U_{1}}{R_1}=\\frac{V_{OUT}-V_{REF}}{R_1}$\n",
    "\n",
    "$I_3=\\frac{U_{3}}{R_3}=\\frac{V_{DAC}-V_{REF}}{R_3}$\n",
    "\n",
    "\n",
    "$\\frac{V_{OUT}-V_{REF}}{R_1}+\\frac{V_{DAC}-V_{REF}}{R_3}=\\frac{V_{REF}}{R_2}$\n",
    "\n",
    "\n",
    "\n",
    "LM2576 Datasheet :\n",
    "\n",
    "$V_{REF}=1.23V$ and $1k\\Omega<R_2<5k\\Omega$\n"
   ]
  },
  {
   "attachments": {},
   "cell_type": "markdown",
   "metadata": {},
   "source": [
    "## Requirements installation"
   ]
  },
  {
   "cell_type": "code",
   "execution_count": 9,
   "metadata": {
    "vscode": {
     "languageId": "shellscript"
    }
   },
   "outputs": [
    {
     "name": "stdout",
     "output_type": "stream",
     "text": [
      "Defaulting to user installation because normal site-packages is not writeable\n",
      "Requirement already satisfied: sympy in /home/axel-popos/.local/lib/python3.10/site-packages (1.11.1)\n",
      "Requirement already satisfied: eseries in /home/axel-popos/.local/lib/python3.10/site-packages (1.2.1)\n",
      "Requirement already satisfied: numpy in /usr/lib/python3/dist-packages (1.21.5)\n",
      "Requirement already satisfied: matplotlib in /home/axel-popos/.local/lib/python3.10/site-packages (3.6.2)\n",
      "Requirement already satisfied: mpmath>=0.19 in /home/axel-popos/.local/lib/python3.10/site-packages (from sympy) (1.3.0)\n",
      "Requirement already satisfied: docopt-subcommands>=4.0 in /home/axel-popos/.local/lib/python3.10/site-packages (from eseries) (4.0.0)\n",
      "Requirement already satisfied: future in /home/axel-popos/.local/lib/python3.10/site-packages (from eseries) (0.18.2)\n",
      "Requirement already satisfied: contourpy>=1.0.1 in /home/axel-popos/.local/lib/python3.10/site-packages (from matplotlib) (1.0.6)\n",
      "Requirement already satisfied: cycler>=0.10 in /home/axel-popos/.local/lib/python3.10/site-packages (from matplotlib) (0.11.0)\n",
      "Requirement already satisfied: fonttools>=4.22.0 in /home/axel-popos/.local/lib/python3.10/site-packages (from matplotlib) (4.38.0)\n",
      "Requirement already satisfied: kiwisolver>=1.0.1 in /home/axel-popos/.local/lib/python3.10/site-packages (from matplotlib) (1.4.4)\n",
      "Requirement already satisfied: packaging>=20.0 in /home/axel-popos/.local/lib/python3.10/site-packages (from matplotlib) (21.3)\n",
      "Requirement already satisfied: pillow>=6.2.0 in /usr/lib/python3/dist-packages (from matplotlib) (9.0.1)\n",
      "Requirement already satisfied: pyparsing>=2.2.1 in /usr/lib/python3/dist-packages (from matplotlib) (2.4.7)\n",
      "Requirement already satisfied: python-dateutil>=2.7 in /home/axel-popos/.local/lib/python3.10/site-packages (from matplotlib) (2.8.2)\n",
      "Requirement already satisfied: docopt in /home/axel-popos/.local/lib/python3.10/site-packages (from docopt-subcommands>=4.0->eseries) (0.6.2)\n",
      "Requirement already satisfied: six>=1.5 in /usr/lib/python3/dist-packages (from python-dateutil>=2.7->matplotlib) (1.16.0)\n"
     ]
    }
   ],
   "source": [
    "!pip install sympy eseries numpy matplotlib"
   ]
  },
  {
   "attachments": {},
   "cell_type": "markdown",
   "metadata": {},
   "source": [
    "## Resistors Exx Series between $1k\\Omega$ and $5k\\Omega$\n",
    "\n",
    "Resistor serie can be chosen with `SERIE` variable."
   ]
  },
  {
   "cell_type": "code",
   "execution_count": 10,
   "metadata": {},
   "outputs": [
    {
     "name": "stdout",
     "output_type": "stream",
     "text": [
      "<generator object _erange at 0x7f8d8040b990>\n"
     ]
    }
   ],
   "source": [
    "from eseries import erange, E12, E24, E48, E96, E192\n",
    "\n",
    "SERIE = E96\n",
    "\n",
    "res_list = erange(SERIE, 1000, 5000)\n",
    "\n",
    "print(res_list)"
   ]
  },
  {
   "attachments": {},
   "cell_type": "markdown",
   "metadata": {},
   "source": [
    "## Initial conditions of the equation system\n",
    "\n",
    "Goal : R1 and R3 calculation with a given $V_{DAC}$ and $V_{OUT}$ values\n",
    "\n",
    "| $V_{DAC}$ | $V_{OUT}$ |\n",
    "|-----------|-----------|\n",
    "| 0 V       | 19 V       |\n",
    "| 3.3 V     | 1 V      |"
   ]
  },
  {
   "cell_type": "code",
   "execution_count": 29,
   "metadata": {},
   "outputs": [],
   "source": [
    "from sympy import symbols, Eq, solve, ccode\n",
    "from eseries import find_nearest, E12, E24, E48, E96, E192\n",
    "\n",
    "VREF = 1.23\n",
    "VDAC_1 = 0.0\n",
    "VDAC_2 = 3.3\n",
    "VOUT_1 = 18.0\n",
    "VOUT_2 = 1.0\n",
    "R2 = 1000\n"
   ]
  },
  {
   "attachments": {},
   "cell_type": "markdown",
   "metadata": {},
   "source": [
    "## Solve R1 and R3 values"
   ]
  },
  {
   "cell_type": "code",
   "execution_count": 12,
   "metadata": {},
   "outputs": [
    {
     "name": "stdout",
     "output_type": "stream",
     "text": [
      "R1 =  8482.63118994826\n",
      "R3 =  1646.62840746055\n",
      "R1 Real =  8450.0\n",
      "R3 Real =  1650.0\n"
     ]
    }
   ],
   "source": [
    "R1, R3 = symbols('R1 R3')\n",
    "eq1 = Eq((VOUT_1 - VREF) / R1 + (VDAC_1 - VREF) / R3, VREF / R2)\n",
    "eq2 = Eq((VOUT_2 - VREF) / R1 + (VDAC_2 - VREF) / R3, VREF / R2)\n",
    "sol = solve((eq1, eq2), (R1, R3), dict=True)\n",
    "print(\"R1 = \", sol[0][R1])\n",
    "print(\"R3 = \", sol[0][R3])\n",
    "\n",
    "R1_real = find_nearest(SERIE, sol[0][R1])\n",
    "R3_real = find_nearest(SERIE, sol[0][R3])\n",
    "print(\"R1 Real = \", R1_real)\n",
    "print(\"R3 Real = \", R3_real)"
   ]
  },
  {
   "attachments": {},
   "cell_type": "markdown",
   "metadata": {},
   "source": [
    "## Real $V_{OUT}$ values\n",
    "\n",
    "$\\frac{V_{OUT}-V_{REF}}{R_1}+\\frac{V_{DAC}-V_{REF}}{R_3}=\\frac{V_{REF}}{R_2}$\n",
    "\n",
    "$V_{OUT}=V_{REF}+\\frac{V_{REF}}{R_2}R_1+\\frac{V_{REF}-V_{DAC}}{R_3}R_1$\n",
    "\n",
    "$V_{OUT}$ Resolution calculation with ADC Resolution"
   ]
  },
  {
   "cell_type": "code",
   "execution_count": 13,
   "metadata": {},
   "outputs": [
    {
     "data": {
      "image/png": "[encoded data removed]",
      "text/plain": [
       "<Figure size 640x480 with 1 Axes>"
      ]
     },
     "metadata": {},
     "output_type": "display_data"
    },
    {
     "name": "stdout",
     "output_type": "stream",
     "text": [
      "For VDAC = 0.0 V, VOUT = 17.922590909090907 V\n",
      "For VDAC = 3.3 V, VOUT = 1.0225909090909084 V\n",
      "For ADC Resolution of  12 bits, the LSB is 0.004126984126983757 V\n"
     ]
    }
   ],
   "source": [
    "import numpy as np\n",
    "import matplotlib.pyplot as plt\n",
    "\n",
    "ADC_RES = 12\n",
    "\n",
    "x = np.linspace(VDAC_1, VDAC_2, 2**ADC_RES)\n",
    "y = VREF + (VREF * R1_real / R2) + ((VREF - x) * R1_real / R3_real)\n",
    "plt.plot(x, y)\n",
    "plt.grid()\n",
    "plt.xlabel('$V_{DAC}$')\n",
    "plt.ylabel('$V_{OUT}$')\n",
    "plt.show()\n",
    "\n",
    "print(\"For VDAC =\", x[0], \"V, VOUT =\", y[0], \"V\")\n",
    "print(\"For VDAC =\", x[-1], \"V, VOUT =\", y[-1], \"V\")\n",
    "print(\"For ADC Resolution of \", ADC_RES, \"bits, the LSB is\", (y[0] - y[1]), \"V\")\n"
   ]
  },
  {
   "attachments": {},
   "cell_type": "markdown",
   "metadata": {},
   "source": [
    "## Set $V_{OUT}$ with adc value"
   ]
  },
  {
   "cell_type": "code",
   "execution_count": 30,
   "metadata": {},
   "outputs": [
    {
     "name": "stdout",
     "output_type": "stream",
     "text": [
      "pow(2, N)*(R1*R2*V_REF + R1*R3*V_REF + R2*R3*(-V_OUT + V_REF))/(R1*R2*V_REFDAC)\n"
     ]
    }
   ],
   "source": [
    "V_REF, V_DAC, V_OUT, R1, R2, R3, x, N, V_REFDAC = symbols('V_REF V_DAC V_OUT R1 R2 R3 x N V_REFDAC')\n",
    "eq = Eq(V_OUT, V_REF + (V_REF * R1 / R2) + ((V_REF - (V_REFDAC * x / 2**N)) * R1 / R3))\n",
    "sol = solve(eq, x)[0]\n",
    "print(ccode(sol))\n"
   ]
  }
 ],
 "metadata": {
  "kernelspec": {
   "display_name": "Python 3",
   "language": "python",
   "name": "python3"
  },
  "language_info": {
   "codemirror_mode": {
    "name": "ipython",
    "version": 3
   },
   "file_extension": ".py",
   "mimetype": "text/x-python",
   "name": "python",
   "nbconvert_exporter": "python",
   "pygments_lexer": "ipython3",
   "version": "3.10.6"
  },
  "orig_nbformat": 4,
  "vscode": {
   "interpreter": {
    "hash": "916dbcbb3f70747c44a77c7bcd40155683ae19c65e1c03b4aa3499c5328201f1"
   }
  }
 },
 "nbformat": 4,
 "nbformat_minor": 2
}

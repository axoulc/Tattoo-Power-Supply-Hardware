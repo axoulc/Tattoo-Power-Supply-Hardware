{
 "cells": [
  {
   "attachments": {},
   "cell_type": "markdown",
   "metadata": {},
   "source": [
    "# Digitally Adjustable Power Supply\n",
    "DC/DC : LM2576\n",
    "\n",
    "![Schematic Feedback](img/smps_feedback.drawio.png)"
   ]
  },
  {
   "attachments": {},
   "cell_type": "markdown",
   "metadata": {},
   "source": [
    "$I_1+I_3=I_2$\n",
    "\n",
    "$I_2=\\frac{U_2}{R_2}=\\frac{V_{REF}}{R_2}$\n",
    "\n",
    "$U_{1}=V_{OUT}-V_{REF}$\n",
    "\n",
    "$I_1=\\frac{U_{1}}{R_1}=\\frac{V_{OUT}-V_{REF}}{R_1}$\n",
    "\n",
    "$I_3=\\frac{U_{3}}{R_3}=\\frac{V_{DAC}-V_{REF}}{R_3}$\n",
    "\n",
    "\n",
    "$\\frac{V_{OUT}-V_{REF}}{R_1}+\\frac{V_{DAC}-V_{REF}}{R_3}=\\frac{V_{REF}}{R_2}$\n",
    "\n",
    "\n",
    "\n",
    "LM2576 Datasheet :\n",
    "\n",
    "$V_{REF}=1.23V$ and $1k\\Omega<R_2<5k\\Omega$\n"
   ]
  },
  {
   "attachments": {},
   "cell_type": "markdown",
   "metadata": {},
   "source": [
    "## Resistors Exx Series between 1k and 5k"
   ]
  },
  {
   "cell_type": "code",
   "execution_count": 26,
   "metadata": {},
   "outputs": [
    {
     "name": "stdout",
     "output_type": "stream",
     "text": [
      "[1050, 1100, 1150, 1210, 1270, 1330, 1400, 1470, 1540, 1620, 1690, 1780, 1870, 1960, 2050, 2150, 2260, 2370, 2490, 2610, 2740, 2870, 3010, 3160, 3320, 3480, 3650, 3830, 4020, 4220, 4420, 4640, 4870, 5110]\n"
     ]
    }
   ],
   "source": [
    "serie = 48 #E48\n",
    "r = 1000\n",
    "i = 1\n",
    "list_res = []\n",
    "while r < 5000:\n",
    "    if serie <= 48:\n",
    "        r = round((10**i)**(1/serie)*100)*10\n",
    "    else:\n",
    "        r = round((10**i)**(1/serie)*10)*100        \n",
    "    \n",
    "    i += 1\n",
    "    list_res.append(r)\n",
    "\n",
    "print(list_res)"
   ]
  },
  {
   "cell_type": "markdown",
   "metadata": {},
   "source": []
  },
  {
   "cell_type": "code",
   "execution_count": 10,
   "metadata": {},
   "outputs": [],
   "source": [
    "import latexify\n"
   ]
  },
  {
   "cell_type": "code",
   "execution_count": 13,
   "metadata": {},
   "outputs": [
    {
     "ename": "SyntaxError",
     "evalue": "invalid syntax (2419035311.py, line 3)",
     "output_type": "error",
     "traceback": [
      "\u001b[0;36m  Cell \u001b[0;32mIn[13], line 3\u001b[0;36m\u001b[0m\n\u001b[0;31m    ia = ua / ra + uref / ra\u001b[0m\n\u001b[0m    ^\u001b[0m\n\u001b[0;31mSyntaxError\u001b[0m\u001b[0;31m:\u001b[0m invalid syntax\n"
     ]
    }
   ],
   "source": [
    "@latexify.expression\n",
    "\n",
    "i2 = u2 / r2 + uref / r2"
   ]
  }
 ],
 "metadata": {
  "kernelspec": {
   "display_name": "Python 3",
   "language": "python",
   "name": "python3"
  },
  "language_info": {
   "codemirror_mode": {
    "name": "ipython",
    "version": 3
   },
   "file_extension": ".py",
   "mimetype": "text/x-python",
   "name": "python",
   "nbconvert_exporter": "python",
   "pygments_lexer": "ipython3",
   "version": "3.10.6"
  },
  "orig_nbformat": 4,
  "vscode": {
   "interpreter": {
    "hash": "916dbcbb3f70747c44a77c7bcd40155683ae19c65e1c03b4aa3499c5328201f1"
   }
  }
 },
 "nbformat": 4,
 "nbformat_minor": 2
}
